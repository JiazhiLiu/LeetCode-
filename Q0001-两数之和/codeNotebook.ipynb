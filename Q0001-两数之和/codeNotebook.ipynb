{
 "cells": [
  {
   "cell_type": "markdown",
   "metadata": {},
   "source": [
    "# 两数之和 "
   ]
  },
  {
   "cell_type": "markdown",
   "metadata": {},
   "source": [
    "## 描述"
   ]
  },
  {
   "cell_type": "markdown",
   "metadata": {},
   "source": [
    "给定一个整数数组 `nums` 和一个目标值 `target`，请你在该数组中找出和为目标值的那 两个 整数，并返回他们的数组下标。\n",
    "\n",
    "你可以假设每种输入只会对应一个答案。但是，数组中同一个元素不能使用两遍。"
   ]
  },
  {
   "cell_type": "markdown",
   "metadata": {},
   "source": [
    "## 解答"
   ]
  },
  {
   "cell_type": "markdown",
   "metadata": {},
   "source": [
    "共有三种解法"
   ]
  },
  {
   "cell_type": "markdown",
   "metadata": {},
   "source": [
    "### 1. 暴力求解"
   ]
  },
  {
   "cell_type": "code",
   "execution_count": 1,
   "metadata": {},
   "outputs": [],
   "source": [
    "def twoSum(nums, target):\n",
    "    for s in range(len(nums)):\n",
    "        for k in range(s+1, len(nums)):\n",
    "            if nums[s] + nums[k] == target:\n",
    "                return [s,k]"
   ]
  },
  {
   "cell_type": "markdown",
   "metadata": {},
   "source": [
    "### 2. 先排序后首尾递进查找\n",
    "对于单调递增数列$a_i (i=0,1,\\cdots,n)$，且存在$0\\leq i<j\\leq n$使得$a_i+a_j=t$，令$s=\\min\\{i~|~a_i+a_j=t, 0\\leq i<j\\leq n\\}$，$k=\\max\\{j~|~a_i+a_j=t, 0\\leq i<j\\leq n\\}$，显然$a_s+a_k=t$。对于$i\\leq s$，$a_i+a_j$随$j$的减小而减小，其值与$t$的关系未知，但必有$a_i+a_k\\leq t$。\n"
   ]
  },
  {
   "cell_type": "code",
   "execution_count": 12,
   "metadata": {},
   "outputs": [],
   "source": [
    "def twoSum(nums, target):\n",
    "    le, s1, s2 = len(nums), 0, len(nums)-1\n",
    "    nums = sorted(list(enumerate(nums)), key=lambda x: x[1])\n",
    "    while s1 < s2 and nums[s1][1] + nums[s2][1] != target:\n",
    "        while s1 < s2 and nums[s1][1] + nums[s2][1] > target:\n",
    "            s2 = s2 - 1\n",
    "        while s1 < s2 and nums[s1][1] + nums[s2][1] < target:\n",
    "            s1 = s1 + 1\n",
    "    return [nums[s1][0], nums[s2][0]]"
   ]
  },
  {
   "cell_type": "markdown",
   "metadata": {},
   "source": [
    "### 3. 哈希表"
   ]
  },
  {
   "cell_type": "markdown",
   "metadata": {},
   "source": [
    "* 利用set"
   ]
  },
  {
   "cell_type": "code",
   "execution_count": 29,
   "metadata": {},
   "outputs": [],
   "source": [
    "def twoSum(nums, target):\n",
    "    nums_set = set(nums)\n",
    "    for i, x in enumerate(nums):\n",
    "        if target - x in nums_set: \n",
    "            try:\n",
    "                return [i, nums.index(target -x, i+1)]\n",
    "            except ValueError:\n",
    "                continue"
   ]
  },
  {
   "cell_type": "markdown",
   "metadata": {},
   "source": [
    "* 利用dict"
   ]
  },
  {
   "cell_type": "code",
   "execution_count": 30,
   "metadata": {},
   "outputs": [],
   "source": [
    "def twoSum(nums, target):\n",
    "    hash_map = {}\n",
    "    for i, x in enumerate(nums):\n",
    "        if target - x in hash_map:\n",
    "            return [i, hash_map[target-x]]\n",
    "        else:\n",
    "            hash_map[x] = i"
   ]
  }
 ],
 "metadata": {
  "kernelspec": {
   "display_name": "Python 3",
   "language": "python",
   "name": "python3"
  },
  "language_info": {
   "codemirror_mode": {
    "name": "ipython",
    "version": 3
   },
   "file_extension": ".py",
   "mimetype": "text/x-python",
   "name": "python",
   "nbconvert_exporter": "python",
   "pygments_lexer": "ipython3",
   "version": "3.7.4"
  }
 },
 "nbformat": 4,
 "nbformat_minor": 4
}
