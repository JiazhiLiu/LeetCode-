{
 "cells": [
  {
   "cell_type": "markdown",
   "metadata": {},
   "source": [
    "# 最长回文子串\n",
    "## 描述\n",
    "给定一个字符串$S$，找到$S$中最长的回文子串。你可以假设$S$的最大长度为 1000。\n",
    "## 解答\n",
    "假设字符串为$S=c_1c_2\\cdots c_{n-1}$，我们用$k(i)$表示字符串中以$c_i$为右端的最大回文串$P_i$的长度，即$P_i=c_{i-k(i)+1}\\cdots c_i=c_i\\cdots c_{i-k(i)+1}$，显然$1\\leq k(i)\\leq i+1$。"
   ]
  },
  {
   "cell_type": "markdown",
   "metadata": {},
   "source": [
    "现在问题转换为求$\\max\\limits_{0\\leq i<n}\\{k(i)\\}$。\n",
    "具体地，当$\\max\\limits_{0\\leq i\\leq r-1}{k(i)}=k_{\\max}$已知时，我们需判断$k(r)$与$k_{\\max}$的关系进而考虑是否更新$k_{\\max}$。\n",
    "### 思路1\n",
    "我们可以遍历以$c_r$为右端长度$t\\in(k_{\\max},r+1]$的子串是否为回文子串。"
   ]
  },
  {
   "cell_type": "code",
   "execution_count": 3,
   "metadata": {},
   "outputs": [],
   "source": [
    "def longestPalindrome(s):\n",
    "    if len(s) <= 1:\n",
    "        return s\n",
    "    k_max = [0,1]\n",
    "    for r in range(len(s)):\n",
    "        for t in range(r+1,k_max[1],-1):\n",
    "            tmp = s[r-t+1:r+1]\n",
    "            if tmp == tmp[::-1]:\n",
    "                k_max = [r, t]\n",
    "                break\n",
    "    return s[k_max[0]-k_max[1]+1:k_max[0]+1]"
   ]
  },
  {
   "cell_type": "markdown",
   "metadata": {},
   "source": [
    "在leetcode上运行时间为4896ms，战胜了28.31\\%python3提交记录，内存消耗为13.7MB。\n",
    "### 思路2\n",
    "我们首先证明\n",
    "$$k(r+1)\\leq k(r)+2\\tag{1}$$。\n",
    "> 当$k(r+1)\\leq 2$时，有$k(r+1)\\leq 2\\leq k(r)+2$，成立。\n",
    ">\n",
    "> 当$k(r+1)>2$时，则有$r-k(r+1)+2<r$，此时$P_{r+1}$可以写为如下形式\n",
    "> $$\n",
    "P_{r+1}=c_{r-k(r+1)+1}c_{r-k(r+1)+2}\\cdots c_rc_{r+1}=c_{r+1}c_r\\cdots c_{r-k(r+1)+2}c_{r-k(r+1)},\n",
    "$$\n",
    "> 所以\n",
    "> $$\n",
    "c_{r-k(r+1)+2}\\cdots c_r=c_r\\cdots c_{r-k(r+1)+2},\n",
    "$$\n",
    "> 所以\n",
    "> $$\n",
    "k(r)\\geq r-[r-k(r+1)+2]=k(r+1)-2.\n",
    "$$\n",
    "\n",
    "基于上述结论可进一步缩小遍历范围。令$i_0=\\max\\{\\mathop{\\arg\\max}\\limits_{0\\leq i\\leq r-1}{k(i)}\\}$，显然$i_0\\leq r-1$，由公式(1)得$k(r)\\leq k(i_0)+2(r-i_0)$，\n",
    "所以我们只需搜寻是否存在长度$t\\in[k_0,\\min(k(i_0)+2(r-i_0),r+1)]$的回文字符串$P_r$。\n"
   ]
  },
  {
   "cell_type": "code",
   "execution_count": 5,
   "metadata": {},
   "outputs": [],
   "source": [
    "def longestPalindrome(s):\n",
    "    le = len(s)\n",
    "    if le <= 1:\n",
    "        return s\n",
    "    k_max = [0,1]\n",
    "    for r in range(le):\n",
    "        for t in range(min(k_max[1]+2*(r-k_max[0]),r+1), k_max[1]-1, -1):\n",
    "            tmp = s[r-t+1:r+1]\n",
    "            if tmp == tmp[::-1]:\n",
    "                k_max = [r, t]\n",
    "                break\n",
    "    return s[k_max[0]-k_max[1]+1:k_max[0]+1]"
   ]
  },
  {
   "cell_type": "markdown",
   "metadata": {},
   "source": [
    "在leetcode上执行时间为2964ms，战胜52.07\\%python3提交记录，内存消耗为13.5MB。\n",
    "### 思路2优化\n",
    "在思路2算法实现中，验证是否为回文串使用了最粗暴的方法`tmp=tmp[::-1]`。对于字符串$c_{r-t+1}\\cdots c_r$，我们要验证其是否为回文串，只需依次验证$c_{r-t+1+j}=c_{r-j}$即可，其中$r-t+1+j\\leq r-j$，即$0\\leq j\\leq\\frac{t-1}{2}$，理论上当其不是回文串时等尽早地推出验证。"
   ]
  },
  {
   "cell_type": "code",
   "execution_count": 6,
   "metadata": {},
   "outputs": [],
   "source": [
    "def longestPalindrome(s):\n",
    "    le = len(s)\n",
    "    if le <= 1:\n",
    "        return s\n",
    "    k_max = [0,1]\n",
    "    for r in range(le):\n",
    "        for t in range(min(k_max[1]+2*(r-k_max[0]),r+1), k_max[1]-1, -1):\n",
    "            j = 0\n",
    "            while j <= (t+1)/2 and s[r-t+1+j] == s[r-j]:\n",
    "                j += 1\n",
    "            if j > (t+1)/2:\n",
    "                k_max = [r,t]\n",
    "                break\n",
    "    return s[k_max[0]-k_max[1]+1:k_max[0]+1]"
   ]
  },
  {
   "cell_type": "markdown",
   "metadata": {},
   "source": [
    "相对于思路2，理论上是优化了的，但在leetcode上实际测试时，时间超出限制。。。\n",
    "### 思路3\n",
    "我们在思路2的基础上进一步缩小搜索范围。\n",
    "\n",
    "对于$i_0=\\max\\{\\mathop{\\arg\\max}\\limits_{0\\leq i\\leq r-1}{k(i)}\\}$，显然$(0\\leq i_0\\leq r-1)$。现在证明$k(r)\\leq k_0+2$。\n",
    "> 当$i_0<r-1$时，用反证法，假设$k(r)>k_0+2$，则有\n",
    "$$k(r)>k(i_0)+2\\geq 2\\Rightarrow k(r)\\geq 3\\Rightarrow r-k(r)+1\\leq r-1,$$\n",
    "因此回文串$P_r$可以写为$c_{r-k(r)+1}c_{r-k(r)+2}\\cdots c_{r-1}c_r$，显然$c_{r-k(r)+2}\\cdots c_{r-1}$也是回文串，所以有$k(r-1)\\geq k(r)-2>k(i_0)+2-2=k(i_0)=\\max\\limits_{0\\leq i\\leq r-1}k(i)$，矛盾。\n",
    "> \n",
    "> 当$i_0=r-1$时，由公式(1)显然$k(r)\\leq k(r-1)+2=k(i_0)+2$。"
   ]
  },
  {
   "cell_type": "markdown",
   "metadata": {},
   "source": [
    "现在我们只需验证是否存在长度$t\\in[k_0, \\min(k_0+2,r+1)]$的回文串$P_r$。"
   ]
  },
  {
   "cell_type": "code",
   "execution_count": 2,
   "metadata": {},
   "outputs": [],
   "source": [
    "def longestPalindrome(s):\n",
    "    if len(s) <= 1:\n",
    "        return s\n",
    "    k_max = [0,1]\n",
    "    for r in range(len(s)):\n",
    "        for t in range(min(k_max[1]+2,r+1), k_max[1]-1, -1):\n",
    "            tmp = s[r-t+1:r+1]\n",
    "            if tmp == tmp[::-1]:\n",
    "                k_max = [r, t]\n",
    "                break\n",
    "    return s[k_max[0]-k_max[1]+1:k_max[0]+1]"
   ]
  },
  {
   "cell_type": "markdown",
   "metadata": {},
   "source": [
    "在leetcode上运行时间为88ms，战胜97.09\\%python3提交记录，内存为13.6MB，不错。\n",
    "### 思路3优化\n",
    "在思路3的实现中，当$i_0=r-1$时，我们仍然使用`tmp=tmp[::-1]`判断是否回文串，事实上，此时我们最期待的情形是$k(r)=k(i_0)+2$，因为我们只需判断$c_r=c_{r-k(i_0)-1}$即可，因此在使用`tmp=tmp[::-1]`进行判断之前，我们可以先判断$c_r=c_{r-k(i_0)-1}$。"
   ]
  },
  {
   "cell_type": "code",
   "execution_count": 3,
   "metadata": {},
   "outputs": [],
   "source": [
    "def longestPalindrome(s):\n",
    "    if len(s) <= 1:\n",
    "        return s\n",
    "    k_max = [0,1]\n",
    "    for r in range(1,len(s)):\n",
    "        if k_max[0] == r-1 and k_max[1] <= r-1 and s[r] == s[r-k_max[1]-1]:\n",
    "            k_max = [r, k_max[1]+2]\n",
    "            continue\n",
    "        for t in range(min(k_max[1]+2,r+1), k_max[1]-1, -1):\n",
    "            tmp = s[r-t+1:r+1]\n",
    "            if tmp == tmp[::-1]:\n",
    "                k_max = [r, t]\n",
    "                break\n",
    "    return s[k_max[0]-k_max[1]+1:k_max[0]+1]"
   ]
  },
  {
   "cell_type": "markdown",
   "metadata": {},
   "source": [
    "在leetcode上时间为108ms，战胜94.83\\%的python3提交记录，内存为13.5MB，相对于未优化前，不升反降。。。"
   ]
  }
 ],
 "metadata": {
  "kernelspec": {
   "display_name": "Python 3",
   "language": "python",
   "name": "python3"
  },
  "language_info": {
   "codemirror_mode": {
    "name": "ipython",
    "version": 3
   },
   "file_extension": ".py",
   "mimetype": "text/x-python",
   "name": "python",
   "nbconvert_exporter": "python",
   "pygments_lexer": "ipython3",
   "version": "3.7.4"
  }
 },
 "nbformat": 4,
 "nbformat_minor": 4
}
