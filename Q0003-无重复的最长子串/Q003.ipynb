{
 "cells": [
  {
   "cell_type": "markdown",
   "metadata": {},
   "source": [
    "# 无重复的最长子串\n",
    "## 描述\n",
    "给定一个字符串，请你找出其中不含有重复字符的*最长子串*的长度。\n",
    "## 解答\n",
    "本题适合采用滑动窗口法。\n",
    "\n",
    "滑动窗口实质上每一次向前滑动，均是前端前进一位，后端根据相应规则重新判定。在本题中，该后端判定规则是*原字符串中以后端为终点的不含有重复字符的最长子串*，因此本题所求的长度就是`len(s)`个滑动窗口中最长窗口的长度。\n",
    "\n",
    "### 解法1\n",
    "直观上单独用变量`window`记录每次滑动中的窗口，每次滑动后，都需要确定当前的滑动窗口是不是迄今为止最大的那一个。\n"
   ]
  },
  {
   "cell_type": "code",
   "execution_count": 11,
   "metadata": {},
   "outputs": [],
   "source": [
    "def lengthOfLongestSubstring0(s):\n",
    "    window, maxLen = [], 0\n",
    "    for c in s:\n",
    "        if c in window:\n",
    "            window = window[window.index(c)+1:]\n",
    "        window.append(c)\n",
    "        maxLen = max(len(window), maxLen)\n",
    "    return maxLen"
   ]
  },
  {
   "cell_type": "markdown",
   "metadata": {},
   "source": [
    "### 解法2\n",
    "既然本题仅仅涉及滑动窗口的长度，所以我们无需在每次滑动中单独为窗口分配变量，只需记录窗口后端下标`win_b`（前端下标不用记录，在每次滑动中都是确定了的，即`i`）。在每次滑动中，我们用dict记录到上一次滑动为止所出现的字符及其下标（多个下标就取最大的，即与前端最近的），因此判断前端字符`c`是否在上一个滑动窗口中就是先判断`c`是否出现过（即是否在dict中），若出现过，再进一步判断是否在上一个窗口中。"
   ]
  },
  {
   "cell_type": "code",
   "execution_count": 24,
   "metadata": {},
   "outputs": [],
   "source": [
    "def lengthOfLongestSubstring2(s):\n",
    "    maxLen, charDict, win_b = 0, {}, 0\n",
    "    for i, c in enumerate(s):\n",
    "        if c in charDict and charDict[c] >= win_b:\n",
    "            win_b = charDict[c] + 1\n",
    "        else:\n",
    "            maxLen = max(i-win_b+1, maxLen)\n",
    "        charDict[c] = i\n",
    "    return maxLen"
   ]
  }
 ],
 "metadata": {
  "kernelspec": {
   "display_name": "Python 3",
   "language": "python",
   "name": "python3"
  },
  "language_info": {
   "codemirror_mode": {
    "name": "ipython",
    "version": 3
   },
   "file_extension": ".py",
   "mimetype": "text/x-python",
   "name": "python",
   "nbconvert_exporter": "python",
   "pygments_lexer": "ipython3",
   "version": "3.7.4"
  }
 },
 "nbformat": 4,
 "nbformat_minor": 4
}
