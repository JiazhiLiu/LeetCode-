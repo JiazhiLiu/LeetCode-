{
 "cells": [
  {
   "cell_type": "markdown",
   "metadata": {},
   "source": [
    "# 寻找中位数\n",
    "## 描述\n",
    "两个有序数组，确定它们整体的中位数\n",
    "## 解答\n",
    "我们有两个递增数列$\\{a_i\\}(0\\leq i<m)$和$\\{b_i\\}(0\\leq i<n)$，他们合在一起排序后的数列为$\\{c_i\\}(0\\leq i<t)$，其中$t=m+n$，显然最终的中位数可以表示为\n",
    "$$\n",
    "c=\\frac{c_{\\lfloor\\frac{t-1}{2}\\rfloor}+c_{\\lceil\\frac{t-1}{2}\\rceil}}{2}.\n",
    "$$\n",
    "因此我们只需确定$\\{c_i\\}$中前$\\lceil\\frac{t-1}{2}\\rceil$个元素便能确定$c$。我们需确定确定$\\{c_i\\}$中前$r$个元素。\n",
    "\n",
    "### 思路1\n",
    "$r$从0开始，逐一确定，此时$s,~k$分别表示这$r$个元素来自数列$\\{a_i\\}$和$\\{b_i\\}$的数量，显然时间复杂度为$O(m+n)$。"
   ]
  },
  {
   "cell_type": "code",
   "execution_count": 16,
   "metadata": {},
   "outputs": [],
   "source": [
    "def findMedianSortedArrays(nums1, nums2):\n",
    "    m, n = len(nums1), len(nums2)\n",
    "    s, k = 0, 0\n",
    "    totalSort = []\n",
    "    m1 = ((m+n-1)-(m+n+1)%2) // 2\n",
    "    m2 = ((m+n-1)+(m+n+1)%2) // 2\n",
    "    while(s+k < m2+1):\n",
    "        if s == m:\n",
    "            totalSort.append(nums2[k])\n",
    "            k += 1\n",
    "            continue\n",
    "        if k == n:\n",
    "            totalSort.append(nums1[s])\n",
    "            s += 1\n",
    "            continue\n",
    "        if nums1[s] < nums2[k]:\n",
    "            totalSort.append(nums1[s])\n",
    "            s += 1\n",
    "        else:\n",
    "            totalSort.append(nums2[k])\n",
    "            k += 1\n",
    "    return (totalSort[m1]+totalSort[m2]) / 2.0"
   ]
  },
  {
   "cell_type": "markdown",
   "metadata": {},
   "source": [
    "### 思路2\n",
    "我们先确定$\\{c_i\\}$中前$r=\\lfloor\\frac{t-1}{2}\\rfloor$个元素，然后再确定$c_{\\lfloor\\frac{t-1}{2}\\rfloor}$和$c_{\\lceil\\frac{t-1}{2}\\rceil}$。比较$a_s$和$b_k$，其中$s+k=r-1$，若$a_s<b_k$，则$\\{a_i\\}(i\\leq s)$必定在$\\{c_i\\}$前$r$个位置，因为$s+1+k=r$。时间复杂度为$O(\\log(m+n)$。"
   ]
  },
  {
   "cell_type": "code",
   "execution_count": 12,
   "metadata": {},
   "outputs": [],
   "source": [
    "def findMedianSortedArrays(nums1, nums2):\n",
    "    t, cr = len(nums1) + len(nums2), 0\n",
    "    r = ((t-1)-(t+1)%2) // 2\n",
    "    while cr < r:\n",
    "        rr = r - cr\n",
    "        if len(nums1) < len(nums2):\n",
    "            nums1, nums2 = nums2, nums1\n",
    "        if len(nums2) == 0:\n",
    "            nums1 = nums1[rr:]\n",
    "            break\n",
    "        k = min(len(nums2)-1, rr//2)\n",
    "        s = rr - 1 - k\n",
    "        if nums1[s] < nums2[k]:\n",
    "            cr += (s+1)\n",
    "            nums1 = nums1[s+1:]\n",
    "        else:\n",
    "            cr += (k+1)\n",
    "            nums2 = nums2[k+1:]\n",
    "\n",
    "    nums1 += [float('inf'),float('inf')]\n",
    "    nums2 += [float('inf'),float('inf')]\n",
    "    median = sorted([nums1[0],nums1[1],nums2[0],nums2[1]])[:(t+1)%2+1]\n",
    "    return (median[0]+median[(t+1)%2]) / 2\n",
    "    "
   ]
  },
  {
   "cell_type": "markdown",
   "metadata": {},
   "source": [
    "### 另一种更简便的解法\n",
    "当$r=\\lceil\\frac{t-1}{2}\\rceil=\\lfloor\\frac{t}{2}\\rfloor$时，$s,~k$分别表示这$r$个元素来自数列$\\{a_i\\}$和$\\{b_i\\}$的数量，此时数列$\\{c_i\\}$可以写为$\\{a_0,\\cdots,a_{s-1},b_0,\\cdots,b_{k-1}~|~a_s,\\cdots,a_{m-1},b_k,\\cdots,b_{n-1}\\}$，`|`右侧元素大于或等于左侧的元素，即$b_{k-1}\\leq a_s$且$a_{s-1}\\leq b_k$。采用二分搜索法，搜索步长逐次减半，若$a_{s-1}>b_k$，向左搜索$s$，若$b_{k-1}>a_s$时，向右搜索$s$。\n",
    "\n",
    "最终，当$t$为偶数时，$c=\\frac{1}{2}[\\max(a_{s-1},b_{k-1})+\\min(a_s,b_k)]$，当$t$为奇数时，$c=\\min(a_s,b_k)$。\n",
    "\n",
    "该方法时间复杂度为$O(\\log_2(\\min(m,n)))$"
   ]
  },
  {
   "cell_type": "code",
   "execution_count": 19,
   "metadata": {},
   "outputs": [],
   "source": [
    "def findMedianSortedArrays(nums1, nums2):\n",
    "    if (len(nums1)>len(nums2)):      #确保nums1的长度不大于nums2\n",
    "        nums1, nums2 = nums2, nums1\n",
    "    I = float('inf')\n",
    "    nums1, nums2 = [-I] + nums1 + [I], [-I] + nums2 + [I] # 确保两个数组都不为空\n",
    "    r = (len(nums1) + len(nums2)) // 2\n",
    "    s, k, step = 1, r-1, (len(nums1) + 1) // 2\n",
    "    while not (nums2[k-1] <= nums1[s] and nums1[s-1] <= nums2[k]): # 二分搜索\n",
    "        step = (step + 1) // 2  #向上取整\n",
    "        if nums2[k-1] > nums1[s]:\n",
    "            s +=  step\n",
    "        else:\n",
    "            s -=  step\n",
    "        k = r - s\n",
    "    \n",
    "    if (len(nums1) + len(nums2)) % 2:\n",
    "        return min(nums1[s], nums2[k])\n",
    "    else:\n",
    "        return (max(nums1[s-1],nums2[k-1]) + min(nums1[s], nums2[k])) * 0.5"
   ]
  }
 ],
 "metadata": {
  "kernelspec": {
   "display_name": "Python 3",
   "language": "python",
   "name": "python3"
  },
  "language_info": {
   "codemirror_mode": {
    "name": "ipython",
    "version": 3
   },
   "file_extension": ".py",
   "mimetype": "text/x-python",
   "name": "python",
   "nbconvert_exporter": "python",
   "pygments_lexer": "ipython3",
   "version": "3.7.4"
  }
 },
 "nbformat": 4,
 "nbformat_minor": 4
}
