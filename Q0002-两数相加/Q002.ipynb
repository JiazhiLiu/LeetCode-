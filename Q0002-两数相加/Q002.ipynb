{
 "cells": [
  {
   "cell_type": "markdown",
   "metadata": {},
   "source": [
    "# 两数相加"
   ]
  },
  {
   "cell_type": "markdown",
   "metadata": {},
   "source": [
    "## 描述\n",
    "给出两个*非空*的链表用来表示两个非负的整数。其中，它们各自的位数是按照*逆序*的方式存储的，并且它们的每个节点只能存储*一位*数字。\n",
    "\n",
    "如果，我们将这两个数相加起来，则会返回一个新的链表来表示它们的和。\n",
    "\n",
    "您可以假设除了数字 0 之外，这两个数都不会以 0 开头。\n",
    "\n",
    "## 解答\n",
    "我们可以模拟整数$a$和$b$相加的笔算过程：同一位次的数与来自低位的进位$carry$相加，产生和的该位次上的数字以及下一个进位。当$a$和$b$的位数不相同时，在处理较大位数整数的剩余位数上的数字时，有两种思路。\n",
    "### 思路1\n",
    "将低位数的整数前补上数字0（即值为0的节点），使其与另一个整数的位数相同。"
   ]
  },
  {
   "cell_type": "code",
   "execution_count": 29,
   "metadata": {},
   "outputs": [],
   "source": [
    "def addTwoNumbers(l1, l2):\n",
    "    head, zeroNode = ListNode(0), ListNode(0)\n",
    "    pre, carry = head, 0\n",
    "    while l1 is not None and l2 is not None:\n",
    "        curval = l1.val + l2.val + carry\n",
    "        pre.next = ListNode(curval%10)\n",
    "        carry, pre, l1, l2 = curval//10, pre.next, l1.next, l2.next\n",
    "        if l1 is None and l2 is not None:\n",
    "            l1 = zeroNode\n",
    "        if l1 is not None and l2 is None:\n",
    "            l2 = zeroNode\n",
    "    if carry > 0:\n",
    "        pre.next = ListNode(1)\n",
    "    return head.next"
   ]
  },
  {
   "cell_type": "markdown",
   "metadata": {},
   "source": [
    "但上述算法不适用于两个链表有为空的情形，不过既然题目中强调两个链表均不为空，这点不足为虑。\n",
    "### 思路2\n",
    "进一步，不补上数字0，仅保留进位$carry$。"
   ]
  },
  {
   "cell_type": "code",
   "execution_count": 38,
   "metadata": {},
   "outputs": [],
   "source": [
    "def addTwoNumbers(l1, l2):\n",
    "    head = ListNode(0)\n",
    "    carry, pre = 0, head\n",
    "    while l1 or l2:\n",
    "        sum0 = carry\n",
    "        if l1:\n",
    "            sum0 += l1.val\n",
    "            l1 = l1.next\n",
    "        if l2:\n",
    "            sum0 += l2.val \n",
    "            l2 = l2.next\n",
    "        pre.next = ListNode(sum0 % 10)\n",
    "        pre, carry = pre.next, sum0 // 10\n",
    "    if carry > 0:\n",
    "        pre.next = ListNode(1)\n",
    "    return head.next"
   ]
  }
 ],
 "metadata": {
  "kernelspec": {
   "display_name": "Python 3",
   "language": "python",
   "name": "python3"
  },
  "language_info": {
   "codemirror_mode": {
    "name": "ipython",
    "version": 3
   },
   "file_extension": ".py",
   "mimetype": "text/x-python",
   "name": "python",
   "nbconvert_exporter": "python",
   "pygments_lexer": "ipython3",
   "version": "3.7.4"
  }
 },
 "nbformat": 4,
 "nbformat_minor": 4
}
